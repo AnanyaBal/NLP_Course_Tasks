{
 "cells": [
  {
   "cell_type": "code",
   "execution_count": null,
   "metadata": {},
   "outputs": [],
   "source": [
    "#lemmatizer\n",
    "#Vectorizer-Bag of Words (0 or 1), tf-idf (values between 0 and 1)\n",
    "#similarity measures-manhattan similarity, euclid's distance, cosine similarity"
   ]
  },
  {
   "cell_type": "code",
   "execution_count": 4,
   "metadata": {},
   "outputs": [],
   "source": [
    "import nltk\n",
    "from nltk.stem import PorterStemmer\n",
    "stemmer =PorterStemmer()\n",
    "example = \"The relationship between the blanks is that they are opposite, something you should be able to notice from the clue words, change and just as suddenly become… On the other hand, if you were to spend time trying to come up with your own word for the blank, you could come up with a variety of different words for the first and second blanks, even if you know the two blanks are in opposition. Instead you should look at the pairs of answer choices that are antonyms. In the question above, we have morose, jubilant and magnanimous, selfish.Now we need to pay closer attention to the sentence, specifically the last part, to note that the change is somewhat welcome. Therefore the second word has to be a positive word. So the answer is (B) morose and (F) jubilant.Sometimes the relationship between the blanks is not as straightforward in a vague text completion. In these rare cases you will have to plug pairs of words into the two blanks, respectively, to see which pair makes the most sense. The good news with two and three-blank text completions, versus one-blanks, is that you only have three words for each blank – not five.\"\n",
    " \n",
    "example=[stemmer.stem(token) for token in example.split(\" \")]"
   ]
  },
  {
   "cell_type": "code",
   "execution_count": 5,
   "metadata": {},
   "outputs": [
    {
     "name": "stdout",
     "output_type": "stream",
     "text": [
      "the relationship between the blank is that they are opposite, someth you should be abl to notic from the clue words, chang and just as suddenli become… On the other hand, if you were to spend time tri to come up with your own word for the blank, you could come up with a varieti of differ word for the first and second blanks, even if you know the two blank are in opposition. instead you should look at the pair of answer choic that are antonyms. In the question above, we have morose, jubil and magnanimous, selfish.now we need to pay closer attent to the sentence, specif the last part, to note that the chang is somewhat welcome. therefor the second word ha to be a posit word. So the answer is (b) moros and (f) jubilant.sometim the relationship between the blank is not as straightforward in a vagu text completion. In these rare case you will have to plug pair of word into the two blanks, respectively, to see which pair make the most sense. the good news with two and three-blank text completions, versu one-blanks, is that you onli have three word for each blank – not five.\n"
     ]
    }
   ],
   "source": [
    "print(\" \".join(example))"
   ]
  },
  {
   "cell_type": "code",
   "execution_count": 8,
   "metadata": {},
   "outputs": [],
   "source": [
    "from nltk.stem import WordNetLemmatizer\n"
   ]
  },
  {
   "cell_type": "code",
   "execution_count": 9,
   "metadata": {},
   "outputs": [
    {
     "name": "stdout",
     "output_type": "stream",
     "text": [
      "The relationship between the blank is that they are opposite, something you should be able to notice from the clue words, change and just a suddenly become… On the other hand, if you were to spend time trying to come up with your own word for the blank, you could come up with a variety of different word for the first and second blanks, even if you know the two blank are in opposition. Instead you should look at the pair of answer choice that are antonyms. In the question above, we have morose, jubilant and magnanimous, selfish.Now we need to pay closer attention to the sentence, specifically the last part, to note that the change is somewhat welcome. Therefore the second word ha to be a positive word. So the answer is (B) morose and (F) jubilant.Sometimes the relationship between the blank is not a straightforward in a vague text completion. In these rare case you will have to plug pair of word into the two blanks, respectively, to see which pair make the most sense. The good news with two and three-blank text completions, versus one-blanks, is that you only have three word for each blank – not five.\n"
     ]
    }
   ],
   "source": [
    "lemmatizer= WordNetLemmatizer()\n",
    "example=\"The relationship between the blanks is that they are opposite, something you should be able to notice from the clue words, change and just as suddenly become… On the other hand, if you were to spend time trying to come up with your own word for the blank, you could come up with a variety of different words for the first and second blanks, even if you know the two blanks are in opposition. Instead you should look at the pairs of answer choices that are antonyms. In the question above, we have morose, jubilant and magnanimous, selfish.Now we need to pay closer attention to the sentence, specifically the last part, to note that the change is somewhat welcome. Therefore the second word has to be a positive word. So the answer is (B) morose and (F) jubilant.Sometimes the relationship between the blanks is not as straightforward in a vague text completion. In these rare cases you will have to plug pairs of words into the two blanks, respectively, to see which pair makes the most sense. The good news with two and three-blank text completions, versus one-blanks, is that you only have three words for each blank – not five.\"\n",
    "example=[lemmatizer.lemmatize(token) for token in example.split(\" \")]\n",
    "print(\" \".join(example))"
   ]
  },
  {
   "cell_type": "code",
   "execution_count": 16,
   "metadata": {},
   "outputs": [
    {
     "name": "stdout",
     "output_type": "stream",
     "text": [
      "bad\n"
     ]
    }
   ],
   "source": [
    "print(lemmatizer.lemmatize('worst', pos='a'))"
   ]
  },
  {
   "cell_type": "code",
   "execution_count": 18,
   "metadata": {},
   "outputs": [],
   "source": [
    "from sklearn.feature_extraction.text import CountVectorizer\n",
    "from sklearn.feature_extraction.text import TfidfVectorizer\n"
   ]
  },
  {
   "cell_type": "code",
   "execution_count": 23,
   "metadata": {},
   "outputs": [
    {
     "name": "stdout",
     "output_type": "stream",
     "text": [
      "[[0 0 0 0 0 1 0 0 0 1 0 1 0 1 0 0 0 0 0 0 0 0 0 0 0 0 0 0 0 0 0 0 0 0 0 0\n",
      "  0 0 1 0 0 0 0 0 0 0 0 0 0 0 0 0 0 0 0 0 0 0 1 0 0 0 0 0 0 0 0 0 0 0 1 0\n",
      "  0 0 0 0 0 0 0 0 0 0 0 0 0 0 0 1 1 0 0 1 0 0 0 0 0 0 0 0 0 0 0 0 1 0 0 0\n",
      "  0 0 0]]\n",
      "[[1 1 1 1 1 1 1 1 1 1 1 1 1 1 1 1 1 1 1 1 1 1 1 1 1 1 1 1 1 1 1 1 1 1 1 1\n",
      "  1 1 1 1 1 1 1 1 1 1 1 1 1 1 1 1 1 1 1 1 1 1 1 1 1 1 1 1 1 1 1 1 1 1 1 1\n",
      "  1 1 1 1 1 1 1 1 1 1 1 1 1 1 1 1 1 1 1 1 1 1 1 1 1 1 1 1 1 1 1 1 1 1 1 1\n",
      "  1 1 1]]\n"
     ]
    }
   ],
   "source": [
    "vect=CountVectorizer(binary =True)\n",
    "corpus = [\"The relationship between the blanks is that they are opposite, something you should be able to notice from the clue words, change and just as suddenly become… On the other hand, if you were to spend time trying to come up with your own word for the blank, you could come up with a variety of different words for the first and second blanks, even if you know the two blanks are in opposition. Instead you should look at the pairs of answer choices that are antonyms. In the question above, we have morose, jubilant and magnanimous, selfish.Now we need to pay closer attention to the sentence, specifically the last part, to note that the change is somewhat welcome. Therefore the second word has to be a positive word. So the answer is (B) morose and (F) jubilant.Sometimes the relationship between the blanks is not as straightforward in a vague text completion. In these rare cases you will have to plug pairs of words into the two blanks, respectively, to see which pair makes the most sense. The good news with two and three-blank text completions, versus one-blanks, is that you only have three words for each blank – not five.\"]\n",
    "vect.fit(corpus)\n",
    "print(vect.transform([\"The relationship between the blanks is that they are opposite which can be noticed\"]).toarray())\n",
    "#print(vect.transform(corpus).toarray())"
   ]
  },
  {
   "cell_type": "code",
   "execution_count": 25,
   "metadata": {},
   "outputs": [
    {
     "name": "stdout",
     "output_type": "stream",
     "text": [
      "[[0.         0.         0.         0.         0.         0.26726124\n",
      "  0.         0.         0.         0.26726124 0.         0.26726124\n",
      "  0.         0.26726124 0.         0.         0.         0.\n",
      "  0.26726124 0.         0.         0.         0.         0.\n",
      "  0.         0.         0.         0.         0.         0.26726124\n",
      "  0.         0.         0.         0.         0.         0.\n",
      "  0.         0.         0.26726124 0.         0.         0.\n",
      "  0.         0.         0.         0.         0.         0.\n",
      "  0.         0.         0.         0.         0.         0.\n",
      "  0.         0.         0.         0.         0.26726124 0.\n",
      "  0.         0.         0.         0.         0.         0.\n",
      "  0.         0.         0.         0.         0.26726124 0.\n",
      "  0.         0.         0.         0.         0.         0.\n",
      "  0.         0.         0.         0.         0.         0.\n",
      "  0.         0.         0.         0.26726124 0.26726124 0.\n",
      "  0.         0.26726124 0.         0.         0.         0.\n",
      "  0.         0.         0.         0.         0.         0.\n",
      "  0.         0.         0.26726124 0.         0.         0.\n",
      "  0.26726124 0.         0.        ]]\n"
     ]
    }
   ],
   "source": [
    "vect=TfidfVectorizer(binary =True)\n",
    "corpus = [\"The relationship between the blanks is that they are opposite, something you should be able to notice from the clue words, change and just as suddenly become… On the other hand, if you were to spend time trying to come up with your own word for the blank, you could come up with a variety of different words for the first and second blanks, even if you know the two blanks are in opposition. Instead you should look at the pairs of answer choices that are antonyms. In the question above, we have morose, jubilant and magnanimous, selfish.Now we need to pay closer attention to the sentence, specifically the last part, to note that the change is somewhat welcome. Therefore the second word has to be a positive word. So the answer is (B) morose and (F) jubilant.Sometimes the relationship between the blanks is not as straightforward in a vague text completion. In these rare cases you will have to plug pairs of words into the two blanks, respectively, to see which pair makes the most sense. The good news with two and three-blank text completions, versus one-blanks, is that you only have three words for each blank – not five.\"]\n",
    "vect.fit(corpus)\n",
    "print(vect.transform([\"The relationship between the blanks is that they are opposite which can be noticed very well from clue words\"]).toarray())\n",
    "#print(vect.transform(corpus).toarray())"
   ]
  },
  {
   "cell_type": "code",
   "execution_count": 28,
   "metadata": {},
   "outputs": [
    {
     "name": "stdout",
     "output_type": "stream",
     "text": [
      "[[1.]]\n"
     ]
    }
   ],
   "source": [
    "from sklearn.metrics.pairwise import cosine_similarity\n",
    "sim=cosine_similarity(vect.transform([\"The correlation between blanks is that they are similar which can be noticed very well from clue words\"]).toarray())\n",
    "print(sim)"
   ]
  },
  {
   "cell_type": "code",
   "execution_count": null,
   "metadata": {},
   "outputs": [],
   "source": []
  }
 ],
 "metadata": {
  "kernelspec": {
   "display_name": "Python 3",
   "language": "python",
   "name": "python3"
  },
  "language_info": {
   "codemirror_mode": {
    "name": "ipython",
    "version": 3
   },
   "file_extension": ".py",
   "mimetype": "text/x-python",
   "name": "python",
   "nbconvert_exporter": "python",
   "pygments_lexer": "ipython3",
   "version": "3.6.7"
  }
 },
 "nbformat": 4,
 "nbformat_minor": 2
}
